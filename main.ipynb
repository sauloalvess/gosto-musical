{
 "cells": [
  {
   "cell_type": "code",
   "execution_count": 50,
   "metadata": {},
   "outputs": [
    {
     "data": {
      "text/plain": [
       "array(['HipHop', 'Dance'], dtype=object)"
      ]
     },
     "execution_count": 50,
     "metadata": {},
     "output_type": "execute_result"
    }
   ],
   "source": [
    "import pandas as pd\n",
    "from sklearn.tree import DecisionTreeClassifier\n",
    "dados_musica = pd.read_csv(\"musica.csv\")\n",
    "X = dados_musica.drop(columns=[\"genre\"]) #input (entrada de informações, dados) / remove a coluna genre\n",
    "y = dados_musica[\"genre\"] #output (possibilidades de resposta) / pega somente a coluna genre\n",
    "\n",
    "model = DecisionTreeClassifier() #cria um modelo\n",
    "model.fit(X.values, y) #treina para aprender padrões\n",
    "\n",
    "predicoes = model.predict([ [21, 1], [22, 0]]) #predições do modelo para homem de 21 anos e mulher de 22 anos\n",
    "predicoes"
   ]
  }
 ],
 "metadata": {
  "kernelspec": {
   "display_name": "Python 3",
   "language": "python",
   "name": "python3"
  },
  "language_info": {
   "codemirror_mode": {
    "name": "ipython",
    "version": 3
   },
   "file_extension": ".py",
   "mimetype": "text/x-python",
   "name": "python",
   "nbconvert_exporter": "python",
   "pygments_lexer": "ipython3",
   "version": "3.10.9"
  },
  "orig_nbformat": 4,
  "vscode": {
   "interpreter": {
    "hash": "f1effbad741e01666f0f4751dc8ae770546dfef7d65e059eb343e8231aae0466"
   }
  }
 },
 "nbformat": 4,
 "nbformat_minor": 2
}
