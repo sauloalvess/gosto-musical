{
 "cells": [
  {
   "cell_type": "code",
   "execution_count": 6,
   "metadata": {},
   "outputs": [
    {
     "data": {
      "text/plain": [
       "['recomendacoes_model.joblib']"
      ]
     },
     "execution_count": 6,
     "metadata": {},
     "output_type": "execute_result"
    }
   ],
   "source": [
    "import pandas as pd\n",
    "import joblib\n",
    "from sklearn.tree import DecisionTreeClassifier\n",
    "from sklearn import tree\n",
    "\n",
    "dados_musica = pd.read_csv(\"musica.csv\")\n",
    "X = dados_musica.drop(columns=[\"genre\"]) #input (entrada de informações, dados) / remove a coluna genre\n",
    "y = dados_musica[\"genre\"] #output (possibilidades de resposta) / pega somente a coluna genre\n",
    "\n",
    "model = DecisionTreeClassifier() #cria um modelo\n",
    "model.fit(X.values, y) #treina para aprender padrões\n",
    "\n",
    "tree.export_graphviz(model, out_file=\"recomendacoes_grafico.dot\", feature_names=['age', 'gender'], class_names=sorted(y.unique()), label=\"all\",\n",
    "                    rounded=True, filled=True) #criando o gráfico\n",
    "\n",
    "joblib.dump(model, \"recomendacoes_model.joblib\") #guardando o treino em um arquivo para carregar depois"
   ]
  },
  {
   "cell_type": "code",
   "execution_count": 9,
   "metadata": {},
   "outputs": [
    {
     "data": {
      "text/plain": [
       "array(['Acoustic'], dtype=object)"
      ]
     },
     "execution_count": 9,
     "metadata": {},
     "output_type": "execute_result"
    }
   ],
   "source": [
    "model = joblib.load(\"recomendacoes_model.joblib\") #carregando modelo\n",
    "idade = input(\"Qual a idade?\")\n",
    "genero = input(\"Qual o gênero?\")\n",
    "\n",
    "predicoes = model.predict([[idade, genero]]) #predições do modelo de acordo com idade e gênero. 0 para mulher, 1 para homem\n",
    "predicoes"
   ]
  },
  {
   "cell_type": "code",
   "execution_count": null,
   "metadata": {},
   "outputs": [],
   "source": [
    "model = joblib.load(\"recomendacoes.joblib\") #carregando modelo\n",
    "predicoes = model.predict([[21, 1]]) #predições do modelo com um exemplo de homem 21 anos\n",
    "predicoes"
   ]
  }
 ],
 "metadata": {
  "kernelspec": {
   "display_name": "Python 3",
   "language": "python",
   "name": "python3"
  },
  "language_info": {
   "codemirror_mode": {
    "name": "ipython",
    "version": 3
   },
   "file_extension": ".py",
   "mimetype": "text/x-python",
   "name": "python",
   "nbconvert_exporter": "python",
   "pygments_lexer": "ipython3",
   "version": "3.10.9"
  },
  "orig_nbformat": 4,
  "vscode": {
   "interpreter": {
    "hash": "f1effbad741e01666f0f4751dc8ae770546dfef7d65e059eb343e8231aae0466"
   }
  }
 },
 "nbformat": 4,
 "nbformat_minor": 2
}
