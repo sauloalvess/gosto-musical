{
 "cells": [
  {
   "cell_type": "code",
   "execution_count": 50,
   "metadata": {},
   "outputs": [
    {
     "data": {
      "text/plain": [
       "array(['HipHop', 'Dance'], dtype=object)"
      ]
     },
     "execution_count": 50,
     "metadata": {},
     "output_type": "execute_result"
    }
   ],
   "source": [
    "import pandas as pd\n",
    "from sklearn.tree import DecisionTreeClassifier\n",
    "from sklearn.model_selection import train_test_split\n",
    "from sklearn.metrics import accuracy_score\n",
    "\n",
    "dados_musica = pd.read_csv(\"musica.csv\")\n",
    "X = dados_musica.drop(columns=[\"genre\"]) #input (entrada de informações, dados) / remove a coluna genre\n",
    "y = dados_musica[\"genre\"] #output (possibilidades de resposta) / pega somente a coluna genre\n",
    "X_train, X_test, y_train, y_test = train_test_split(X, y, test_size=0.2) #alocando 20% dos dados para testes\n",
    "\n",
    "model = DecisionTreeClassifier() #cria um modelo\n",
    "model.fit(X_train.values, y_train) #treina para aprender padrões\n",
    "\n",
    "predicoes = model.predict(X_test) #predições do modelo com a variável alocada para testes\n",
    "\n",
    "nota = accuracy_score(y_test, predicoes) #avalia a precisao do modelo em relação à variável de teste\n",
    "nota"
   ]
  }
 ],
 "metadata": {
  "kernelspec": {
   "display_name": "Python 3",
   "language": "python",
   "name": "python3"
  },
  "language_info": {
   "codemirror_mode": {
    "name": "ipython",
    "version": 3
   },
   "file_extension": ".py",
   "mimetype": "text/x-python",
   "name": "python",
   "nbconvert_exporter": "python",
   "pygments_lexer": "ipython3",
   "version": "3.10.9"
  },
  "orig_nbformat": 4,
  "vscode": {
   "interpreter": {
    "hash": "f1effbad741e01666f0f4751dc8ae770546dfef7d65e059eb343e8231aae0466"
   }
  }
 },
 "nbformat": 4,
 "nbformat_minor": 2
}
